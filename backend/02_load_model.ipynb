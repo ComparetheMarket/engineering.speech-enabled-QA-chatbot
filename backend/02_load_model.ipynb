{
 "cells": [
  {
   "cell_type": "markdown",
   "metadata": {
    "application/vnd.databricks.v1+cell": {
     "cellMetadata": {},
     "inputWidgets": {},
     "nuid": "1628f0c6-b542-48ba-9414-dfef7cf87b46",
     "showTitle": false,
     "title": ""
    }
   },
   "source": [
    "### This is the notebook to run the Open LLM's as an Web Service"
   ]
  },
  {
   "cell_type": "code",
   "execution_count": 0,
   "metadata": {
    "application/vnd.databricks.v1+cell": {
     "cellMetadata": {},
     "inputWidgets": {},
     "nuid": "b15879fb-990c-4888-962d-050b9ff79bf7",
     "showTitle": false,
     "title": ""
    }
   },
   "outputs": [],
   "source": [
    "%run \"./util/notebook-config\""
   ]
  },
  {
   "cell_type": "markdown",
   "metadata": {
    "application/vnd.databricks.v1+cell": {
     "cellMetadata": {},
     "inputWidgets": {},
     "nuid": "1b254d79-e33d-4b8e-b426-4c17d83b3109",
     "showTitle": false,
     "title": ""
    }
   },
   "source": [
    "**This notebook is not required if you want to run the OpenAI model**"
   ]
  },
  {
   "cell_type": "code",
   "execution_count": 0,
   "metadata": {
    "application/vnd.databricks.v1+cell": {
     "cellMetadata": {
      "byteLimit": 2048000,
      "rowLimit": 10000
     },
     "inputWidgets": {},
     "nuid": "837f5e66-7b29-4b6c-8f33-1c636e888917",
     "showTitle": false,
     "title": ""
    }
   },
   "outputs": [],
   "source": [
    "if config['model_id'] == \"openai\":\n",
    "  raise \"Notebook note required , Use this notebook to run on when using open LLM. change the config\""
   ]
  },
  {
   "cell_type": "code",
   "execution_count": 0,
   "metadata": {
    "application/vnd.databricks.v1+cell": {
     "cellMetadata": {
      "byteLimit": 2048000,
      "rowLimit": 10000
     },
     "inputWidgets": {},
     "nuid": "3d06412e-f027-4315-8e15-bcc2b7c1c4a7",
     "showTitle": false,
     "title": ""
    }
   },
   "outputs": [],
   "source": [
    "%pip install torch==2.0.1"
   ]
  },
  {
   "cell_type": "code",
   "execution_count": 0,
   "metadata": {
    "application/vnd.databricks.v1+cell": {
     "cellMetadata": {
      "byteLimit": 2048000,
      "rowLimit": 10000
     },
     "inputWidgets": {},
     "nuid": "bced07cc-4b0f-4534-8550-0a3d1f4a276b",
     "showTitle": false,
     "title": ""
    }
   },
   "outputs": [],
   "source": [
    "# ! rm -rf /dbfs/$user/tgi/*"
   ]
  },
  {
   "cell_type": "code",
   "execution_count": 0,
   "metadata": {
    "application/vnd.databricks.v1+cell": {
     "cellMetadata": {
      "byteLimit": 2048000,
      "rowLimit": 10000
     },
     "inputWidgets": {},
     "nuid": "656875a2-2cbe-4493-9b89-264a70a42863",
     "showTitle": false,
     "title": ""
    }
   },
   "outputs": [],
   "source": [
    "%sh\n",
    "# install rust\n",
    "curl --proto '=https' --tlsv1.2 -sSf https://sh.rustup.rs > tmp.sh\n",
    "sh tmp.sh -y\n",
    "source \"$HOME/.cargo/env\"\n",
    "\n",
    "# install protoc\n",
    "PROTOC_ZIP=protoc-21.12-linux-x86_64.zip\n",
    "curl -OL https://github.com/protocolbuffers/protobuf/releases/download/v21.12/$PROTOC_ZIP\n",
    "sudo unzip -o $PROTOC_ZIP -d /usr/local bin/protoc\n",
    "sudo unzip -o $PROTOC_ZIP -d /usr/local 'include/*'\n",
    "rm -f $PROTOC_ZIP\n",
    "\n",
    "# install text-generation-inference\n",
    "rm -rf  /local_disk0/tmp/text-generation-inference\n",
    "cd /local_disk0/tmp && git clone https://github.com/huggingface/text-generation-inference.git  \n",
    "cd /local_disk0/tmp/text-generation-inference && make install"
   ]
  },
  {
   "cell_type": "code",
   "execution_count": 0,
   "metadata": {
    "application/vnd.databricks.v1+cell": {
     "cellMetadata": {
      "byteLimit": 2048000,
      "rowLimit": 10000
     },
     "inputWidgets": {},
     "nuid": "781c3220-610f-4034-b86a-2b442cf6bc5a",
     "showTitle": false,
     "title": ""
    }
   },
   "outputs": [],
   "source": [
    "%sh \n",
    "FILE=/dbfs/$user/tgi/flash_attn-1.0.8-cp310-cp310-linux_x86_64.whl \n",
    "if test -f \"$FILE\"; then\n",
    "    echo \"$FILE exists.\"\n",
    "else\n",
    "    export flash_att_commit='3a9bfd076f98746c73362328958dbc68d145fbec'\n",
    "    mkdir /dbfs/$user/tgi/  -p\n",
    "    rm -rf  /local_disk0/tmp/flash-attention\n",
    "    cd /local_disk0/tmp && git clone https://github.com/HazyResearch/flash-attention.git \n",
    "\n",
    "    cd flash-attention && git fetch && git checkout ${flash_att_commit}\n",
    "    python setup.py build\n",
    "    python setup.py bdist_wheel\n",
    "    cp  dist/flash_attn-1.0.8-cp310-cp310-linux_x86_64.whl /dbfs/$user/tgi/flash_attn-1.0.8-cp310-cp310-linux_x86_64.whl\n",
    "    cd csrc/rotary && python setup.py build \n",
    "    python setup.py bdist_wheel\n",
    "    cp  dist/rotary_emb-0.1-cp310-cp310-linux_x86_64.whl /dbfs/$user/tgi/rotary_emb-0.1-cp310-cp310-linux_x86_64.whl\n",
    "    cd ..\n",
    "    cd layer_norm && python setup.py build \n",
    "    python setup.py bdist_wheel\n",
    "    cp  dist/dropout_layer_norm-0.1-cp310-cp310-linux_x86_64.whl /dbfs/$user/tgi/dropout_layer_norm-0.1-cp310-cp310-linux_x86_64.whl\n",
    "fi"
   ]
  },
  {
   "cell_type": "code",
   "execution_count": 0,
   "metadata": {
    "application/vnd.databricks.v1+cell": {
     "cellMetadata": {
      "byteLimit": 2048000,
      "rowLimit": 10000
     },
     "inputWidgets": {},
     "nuid": "598616b2-762b-4fe4-8b05-df3ff57611fb",
     "showTitle": false,
     "title": ""
    }
   },
   "outputs": [],
   "source": [
    "%sh \n",
    "FILE=/dbfs/$user/tgi/flash_attn-2.0.0.post1-cp310-cp310-linux_x86_64.whl\n",
    "if test -f \"$FILE\"; then\n",
    "    echo \"$FILE exists.\"\n",
    "else\n",
    "    export flash_att_v2_commit='4f285b354796fb17df8636485b9a04df3ebbb7dc'\n",
    "\n",
    "    rm -rf  /local_disk0/tmp/flash-attention-v2\n",
    "    cd /local_disk0/tmp && git clone https://github.com/HazyResearch/flash-attention.git flash-attention-v2\n",
    "\n",
    "    cd flash-attention-v2 && git fetch && git checkout ${flash_att_v2_commit}\n",
    "    python setup.py build\n",
    "    python setup.py bdist_wheel\n",
    "    cp  dist/flash_attn-2.0.0.post1-cp310-cp310-linux_x86_64.whl /dbfs/$user/tgi/flash_attn-2.0.0.post1-cp310-cp310-linux_x86_64.whl\n",
    "fi"
   ]
  },
  {
   "cell_type": "code",
   "execution_count": 0,
   "metadata": {
    "application/vnd.databricks.v1+cell": {
     "cellMetadata": {
      "byteLimit": 2048000,
      "rowLimit": 10000
     },
     "inputWidgets": {},
     "nuid": "728960a7-0c57-4cb5-b791-6ae7b6c8ae22",
     "showTitle": false,
     "title": ""
    }
   },
   "outputs": [],
   "source": [
    "%sh \n",
    "FILE=/dbfs/$user/tgi/vllm-0.0.0-cp310-cp310-linux_x86_64.whl\n",
    "if test -f \"$FILE\"; then\n",
    "    echo \"$FILE exists.\"\n",
    "else\n",
    "    export vllm_commit='d284b831c17f42a8ea63369a06138325f73c4cf9'\n",
    "\n",
    "    rm -rf  /local_disk0/tmp/vllm\n",
    "    cd /local_disk0/tmp && git clone https://github.com/OlivierDehaene/vllm.git\n",
    "\n",
    "    cd vllm && git fetch && git checkout ${vllm_commit}\n",
    "    python setup.py build\n",
    "    python setup.py bdist_wheel\n",
    "    cp dist/vllm-0.0.0-cp310-cp310-linux_x86_64.whl /dbfs/$user/tgi/vllm-0.0.0-cp310-cp310-linux_x86_64.whl\n",
    "fi"
   ]
  },
  {
   "cell_type": "code",
   "execution_count": 0,
   "metadata": {
    "application/vnd.databricks.v1+cell": {
     "cellMetadata": {
      "byteLimit": 2048000,
      "rowLimit": 10000
     },
     "inputWidgets": {},
     "nuid": "8c936aee-7701-4bf4-be88-51792d32460e",
     "showTitle": false,
     "title": ""
    }
   },
   "outputs": [],
   "source": [
    "%pip install /dbfs/$user/tgi/flash_attn-2* /dbfs/$user/tgi/dropout_laye* /dbfs/$user/tgi/rotary_emb*  /dbfs/$user/tgi/vllm*  urllib3==1.25.4 protobuf==3.20.*"
   ]
  },
  {
   "cell_type": "code",
   "execution_count": 0,
   "metadata": {
    "application/vnd.databricks.v1+cell": {
     "cellMetadata": {
      "byteLimit": 2048000,
      "rowLimit": 10000
     },
     "inputWidgets": {},
     "nuid": "a3a19da5-0e0b-4f8a-b6fa-fe5327755fca",
     "showTitle": false,
     "title": ""
    }
   },
   "outputs": [],
   "source": [
    "#  dbutils.library.restartPython() "
   ]
  },
  {
   "cell_type": "code",
   "execution_count": 0,
   "metadata": {
    "application/vnd.databricks.v1+cell": {
     "cellMetadata": {
      "byteLimit": 2048000,
      "rowLimit": 10000
     },
     "inputWidgets": {},
     "nuid": "99f364f9-b15e-40cb-9e95-8af08b0959f1",
     "showTitle": false,
     "title": ""
    }
   },
   "outputs": [],
   "source": [
    "import os \n",
    "nodeid = spark.conf.get('spark.databricks.driverNodeTypeId')\n",
    "if \"A100\" in nodeid:\n",
    "  os.environ['sharded'] = 'false'\n",
    "  os.environ['CUDA_VISIBLE_DEVICES'] = \"0\"\n",
    "else:\n",
    "  os.environ['sharded'] = 'true'\n",
    "  os.environ['CUDA_VISIBLE_DEVICES'] = \"0,1,2,3\"\n",
    "\n",
    "if \"Llama-2\" in config['model_id']: \n",
    "  os.environ['HUGGING_FACE_HUB_TOKEN'] = config['HUGGING_FACE_HUB_TOKEN']\n",
    "os.environ['HUGGINGFACE_HUB_CACHE'] ='/local_disk0/tmp/'\n",
    "os.environ['CUDA_MEMORY_FRACTION'] = \"0.95\"\n",
    "\n",
    "# get model variables\n",
    "os.environ['model_id'] = config['model_id']\n",
    "if \"load_in_8bit\" in config['model_kwargs']:\n",
    "  os.environ['quantize'] = \"bitsandbytes\"\n",
    "if config['model_id'] != 'meta-llama/Llama-2-70b-chat-hf':\n",
    "  os.environ['CUDA_MEMORY_FRACTION'] = \".9\""
   ]
  },
  {
   "cell_type": "code",
   "execution_count": 0,
   "metadata": {
    "application/vnd.databricks.v1+cell": {
     "cellMetadata": {
      "byteLimit": 2048000,
      "rowLimit": 10000
     },
     "inputWidgets": {},
     "nuid": "3bf3ddb3-d50b-4623-a52a-5cd0948cc498",
     "showTitle": false,
     "title": ""
    }
   },
   "outputs": [],
   "source": [
    "from dbruntime.databricks_repl_context import get_context\n",
    "ctx = get_context()\n",
    "\n",
    "port = \"8880\"\n",
    "driver_proxy_api = f\"https://{ctx.browserHostName}/driver-proxy-api/o/0/{ctx.clusterId}/{port}\"\n",
    "\n",
    "print(f\"\"\"\n",
    "driver_proxy_api = '{driver_proxy_api}'\n",
    "cluster_id = '{ctx.clusterId}'\n",
    "port = {port}\n",
    "\"\"\")"
   ]
  },
  {
   "cell_type": "code",
   "execution_count": 0,
   "metadata": {
    "application/vnd.databricks.v1+cell": {
     "cellMetadata": {
      "byteLimit": 2048000,
      "rowLimit": 10000
     },
     "inputWidgets": {},
     "nuid": "47a527bc-46b1-4016-aba6-bb53e1206364",
     "showTitle": false,
     "title": ""
    }
   },
   "outputs": [],
   "source": [
    "%sh\n",
    "source \"$HOME/.cargo/env\"\n",
    "\n",
    "if [ -z ${quantize} ]; \n",
    "    then echo \"quantize\" && text-generation-launcher --model-id $model_id --port 8880 --trust-remote-code --sharded $sharded --max-input-length 2048 --max-total-tokens 2500 --max-batch-prefill-tokens 2500 ;\n",
    "else text-generation-launcher --model-id $model_id --port 8880 --trust-remote-code --sharded $sharded --max-input-length 2048 --max-total-tokens 2500 --quantize bitsandbytes --max-batch-prefill-tokens 2500  ;\n",
    "fi"
   ]
  },
  {
   "cell_type": "code",
   "execution_count": 0,
   "metadata": {
    "application/vnd.databricks.v1+cell": {
     "cellMetadata": {
      "byteLimit": 2048000,
      "rowLimit": 10000
     },
     "inputWidgets": {},
     "nuid": "b3245f8d-98a8-4f57-8bb8-8f63dd4190ea",
     "showTitle": false,
     "title": ""
    }
   },
   "outputs": [],
   "source": [
    "! kill -9  $(ps aux | grep 'text-generation' | awk '{print $2}')"
   ]
  },
  {
   "cell_type": "code",
   "execution_count": 0,
   "metadata": {
    "application/vnd.databricks.v1+cell": {
     "cellMetadata": {
      "byteLimit": 2048000,
      "rowLimit": 10000
     },
     "inputWidgets": {},
     "nuid": "cff97d1b-6ee8-4c5a-a329-f0d811ba5fcc",
     "showTitle": false,
     "title": ""
    }
   },
   "outputs": [],
   "source": []
  }
 ],
 "metadata": {
  "application/vnd.databricks.v1+notebook": {
   "dashboards": [],
   "language": "python",
   "notebookMetadata": {
    "mostRecentlyExecutedCommandWithImplicitDF": {
     "commandId": 412298436410307,
     "dataframes": [
      "_sqldf"
     ]
    },
    "pythonIndentUnit": 2
   },
   "notebookName": "02_load_model",
   "widgets": {}
  },
  "language_info": {
   "name": "python"
  }
 },
 "nbformat": 4,
 "nbformat_minor": 0
}
